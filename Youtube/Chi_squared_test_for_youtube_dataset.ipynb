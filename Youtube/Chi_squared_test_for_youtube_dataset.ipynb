{
  "nbformat": 4,
  "nbformat_minor": 0,
  "metadata": {
    "colab": {
      "provenance": []
    },
    "kernelspec": {
      "name": "python3",
      "display_name": "Python 3"
    },
    "language_info": {
      "name": "python"
    }
  },
  "cells": [
    {
      "cell_type": "code",
      "execution_count": null,
      "metadata": {
        "id": "H35K7OZ2aZ2r"
      },
      "outputs": [],
      "source": [
        "import pandas as pd"
      ]
    },
    {
      "cell_type": "code",
      "source": [
        "df=pd.read_csv('/content/All_Comments_Final.csv')\n",
        "df"
      ],
      "metadata": {
        "colab": {
          "base_uri": "https://localhost:8080/",
          "height": 1000
        },
        "id": "oOCfyqdAc0Kz",
        "outputId": "fcddaeb3-4f56-4a4a-c4a1-841bbdca9d27"
      },
      "execution_count": null,
      "outputs": [
        {
          "output_type": "execute_result",
          "data": {
            "text/plain": [
              "                                                Comments  \\\n",
              "0      Thanks for this video Ken.\\n\\nI decided to go ...   \n",
              "1      Hello ken jee!!! I'm doing a graduation on Com...   \n",
              "2      Thanks for this video, man. So useful. I'll me...   \n",
              "3      Great video!!! I started learning Python 8 mon...   \n",
              "4      Been watching hours of your material (and Tina...   \n",
              "...                                                  ...   \n",
              "10235  Dear Ken,\\nMay I know how the input data with ...   \n",
              "10236  What's your prediction Ken for 2018 or at leas...   \n",
              "10237  Nice. I have some nice models for this doing v...   \n",
              "10238  Great video! Can you please post the github li...   \n",
              "10239  Hi Ken\\n\\nI've been researching about this. Wo...   \n",
              "\n",
              "                       Comment_ID  Reply_Count  Like_Count  \\\n",
              "0      UgxFZTIzC4UPyhhX_PZ4AaABAg            0           0   \n",
              "1      Ugx3IYuAufhb932GYQx4AaABAg            0           0   \n",
              "2      UgyhwwoK24arzRt1mud4AaABAg            0           0   \n",
              "3      UgwrrI7nd3WClsotmHV4AaABAg            0           0   \n",
              "4      UgxlOrHO4MHKSwY9mUN4AaABAg            0           0   \n",
              "...                           ...          ...         ...   \n",
              "10235  UgzX5v48CJAPbvynwTR4AaABAg            1           0   \n",
              "10236  UgwdI9ydb2nk-FIJ1sN4AaABAg            0           0   \n",
              "10237  UgyTi5fEIpZBoED9Fc94AaABAg            0           0   \n",
              "10238  UgyhJTCKn88b0lggR794AaABAg            0           0   \n",
              "10239  UgzG1dz-KieX_gxjMWd4AaABAg            6           2   \n",
              "\n",
              "                       Date        VidId    user_ID  \n",
              "0      2022-01-22T08:13:29Z  xpIFS6jZbe8   user_981  \n",
              "1      2022-01-22T01:09:46Z  xpIFS6jZbe8   user_213  \n",
              "2      2022-01-21T23:59:05Z  rEWPqw6rMGI  user_1065  \n",
              "3      2022-01-21T23:00:37Z  xpIFS6jZbe8  user_3391  \n",
              "4      2022-01-21T20:24:20Z  sHRq-LshG3U  user_2816  \n",
              "...                     ...          ...        ...  \n",
              "10235  2018-07-06T07:08:39Z  qfRhKHV8-t4  user_5850  \n",
              "10236  2018-05-15T00:01:12Z  qfRhKHV8-t4  user_2676  \n",
              "10237  2018-05-04T20:58:54Z  qfRhKHV8-t4  user_4533  \n",
              "10238  2018-02-20T16:46:19Z  qfRhKHV8-t4  user_3368  \n",
              "10239  2017-12-03T18:52:35Z  qfRhKHV8-t4  user_5345  \n",
              "\n",
              "[10240 rows x 7 columns]"
            ],
            "text/html": [
              "\n",
              "  <div id=\"df-d9484d80-c179-4c58-be9d-97ebac1f19ba\">\n",
              "    <div class=\"colab-df-container\">\n",
              "      <div>\n",
              "<style scoped>\n",
              "    .dataframe tbody tr th:only-of-type {\n",
              "        vertical-align: middle;\n",
              "    }\n",
              "\n",
              "    .dataframe tbody tr th {\n",
              "        vertical-align: top;\n",
              "    }\n",
              "\n",
              "    .dataframe thead th {\n",
              "        text-align: right;\n",
              "    }\n",
              "</style>\n",
              "<table border=\"1\" class=\"dataframe\">\n",
              "  <thead>\n",
              "    <tr style=\"text-align: right;\">\n",
              "      <th></th>\n",
              "      <th>Comments</th>\n",
              "      <th>Comment_ID</th>\n",
              "      <th>Reply_Count</th>\n",
              "      <th>Like_Count</th>\n",
              "      <th>Date</th>\n",
              "      <th>VidId</th>\n",
              "      <th>user_ID</th>\n",
              "    </tr>\n",
              "  </thead>\n",
              "  <tbody>\n",
              "    <tr>\n",
              "      <th>0</th>\n",
              "      <td>Thanks for this video Ken.\\n\\nI decided to go ...</td>\n",
              "      <td>UgxFZTIzC4UPyhhX_PZ4AaABAg</td>\n",
              "      <td>0</td>\n",
              "      <td>0</td>\n",
              "      <td>2022-01-22T08:13:29Z</td>\n",
              "      <td>xpIFS6jZbe8</td>\n",
              "      <td>user_981</td>\n",
              "    </tr>\n",
              "    <tr>\n",
              "      <th>1</th>\n",
              "      <td>Hello ken jee!!! I'm doing a graduation on Com...</td>\n",
              "      <td>Ugx3IYuAufhb932GYQx4AaABAg</td>\n",
              "      <td>0</td>\n",
              "      <td>0</td>\n",
              "      <td>2022-01-22T01:09:46Z</td>\n",
              "      <td>xpIFS6jZbe8</td>\n",
              "      <td>user_213</td>\n",
              "    </tr>\n",
              "    <tr>\n",
              "      <th>2</th>\n",
              "      <td>Thanks for this video, man. So useful. I'll me...</td>\n",
              "      <td>UgyhwwoK24arzRt1mud4AaABAg</td>\n",
              "      <td>0</td>\n",
              "      <td>0</td>\n",
              "      <td>2022-01-21T23:59:05Z</td>\n",
              "      <td>rEWPqw6rMGI</td>\n",
              "      <td>user_1065</td>\n",
              "    </tr>\n",
              "    <tr>\n",
              "      <th>3</th>\n",
              "      <td>Great video!!! I started learning Python 8 mon...</td>\n",
              "      <td>UgwrrI7nd3WClsotmHV4AaABAg</td>\n",
              "      <td>0</td>\n",
              "      <td>0</td>\n",
              "      <td>2022-01-21T23:00:37Z</td>\n",
              "      <td>xpIFS6jZbe8</td>\n",
              "      <td>user_3391</td>\n",
              "    </tr>\n",
              "    <tr>\n",
              "      <th>4</th>\n",
              "      <td>Been watching hours of your material (and Tina...</td>\n",
              "      <td>UgxlOrHO4MHKSwY9mUN4AaABAg</td>\n",
              "      <td>0</td>\n",
              "      <td>0</td>\n",
              "      <td>2022-01-21T20:24:20Z</td>\n",
              "      <td>sHRq-LshG3U</td>\n",
              "      <td>user_2816</td>\n",
              "    </tr>\n",
              "    <tr>\n",
              "      <th>...</th>\n",
              "      <td>...</td>\n",
              "      <td>...</td>\n",
              "      <td>...</td>\n",
              "      <td>...</td>\n",
              "      <td>...</td>\n",
              "      <td>...</td>\n",
              "      <td>...</td>\n",
              "    </tr>\n",
              "    <tr>\n",
              "      <th>10235</th>\n",
              "      <td>Dear Ken,\\nMay I know how the input data with ...</td>\n",
              "      <td>UgzX5v48CJAPbvynwTR4AaABAg</td>\n",
              "      <td>1</td>\n",
              "      <td>0</td>\n",
              "      <td>2018-07-06T07:08:39Z</td>\n",
              "      <td>qfRhKHV8-t4</td>\n",
              "      <td>user_5850</td>\n",
              "    </tr>\n",
              "    <tr>\n",
              "      <th>10236</th>\n",
              "      <td>What's your prediction Ken for 2018 or at leas...</td>\n",
              "      <td>UgwdI9ydb2nk-FIJ1sN4AaABAg</td>\n",
              "      <td>0</td>\n",
              "      <td>0</td>\n",
              "      <td>2018-05-15T00:01:12Z</td>\n",
              "      <td>qfRhKHV8-t4</td>\n",
              "      <td>user_2676</td>\n",
              "    </tr>\n",
              "    <tr>\n",
              "      <th>10237</th>\n",
              "      <td>Nice. I have some nice models for this doing v...</td>\n",
              "      <td>UgyTi5fEIpZBoED9Fc94AaABAg</td>\n",
              "      <td>0</td>\n",
              "      <td>0</td>\n",
              "      <td>2018-05-04T20:58:54Z</td>\n",
              "      <td>qfRhKHV8-t4</td>\n",
              "      <td>user_4533</td>\n",
              "    </tr>\n",
              "    <tr>\n",
              "      <th>10238</th>\n",
              "      <td>Great video! Can you please post the github li...</td>\n",
              "      <td>UgyhJTCKn88b0lggR794AaABAg</td>\n",
              "      <td>0</td>\n",
              "      <td>0</td>\n",
              "      <td>2018-02-20T16:46:19Z</td>\n",
              "      <td>qfRhKHV8-t4</td>\n",
              "      <td>user_3368</td>\n",
              "    </tr>\n",
              "    <tr>\n",
              "      <th>10239</th>\n",
              "      <td>Hi Ken\\n\\nI've been researching about this. Wo...</td>\n",
              "      <td>UgzG1dz-KieX_gxjMWd4AaABAg</td>\n",
              "      <td>6</td>\n",
              "      <td>2</td>\n",
              "      <td>2017-12-03T18:52:35Z</td>\n",
              "      <td>qfRhKHV8-t4</td>\n",
              "      <td>user_5345</td>\n",
              "    </tr>\n",
              "  </tbody>\n",
              "</table>\n",
              "<p>10240 rows × 7 columns</p>\n",
              "</div>\n",
              "      <button class=\"colab-df-convert\" onclick=\"convertToInteractive('df-d9484d80-c179-4c58-be9d-97ebac1f19ba')\"\n",
              "              title=\"Convert this dataframe to an interactive table.\"\n",
              "              style=\"display:none;\">\n",
              "        \n",
              "  <svg xmlns=\"http://www.w3.org/2000/svg\" height=\"24px\"viewBox=\"0 0 24 24\"\n",
              "       width=\"24px\">\n",
              "    <path d=\"M0 0h24v24H0V0z\" fill=\"none\"/>\n",
              "    <path d=\"M18.56 5.44l.94 2.06.94-2.06 2.06-.94-2.06-.94-.94-2.06-.94 2.06-2.06.94zm-11 1L8.5 8.5l.94-2.06 2.06-.94-2.06-.94L8.5 2.5l-.94 2.06-2.06.94zm10 10l.94 2.06.94-2.06 2.06-.94-2.06-.94-.94-2.06-.94 2.06-2.06.94z\"/><path d=\"M17.41 7.96l-1.37-1.37c-.4-.4-.92-.59-1.43-.59-.52 0-1.04.2-1.43.59L10.3 9.45l-7.72 7.72c-.78.78-.78 2.05 0 2.83L4 21.41c.39.39.9.59 1.41.59.51 0 1.02-.2 1.41-.59l7.78-7.78 2.81-2.81c.8-.78.8-2.07 0-2.86zM5.41 20L4 18.59l7.72-7.72 1.47 1.35L5.41 20z\"/>\n",
              "  </svg>\n",
              "      </button>\n",
              "      \n",
              "  <style>\n",
              "    .colab-df-container {\n",
              "      display:flex;\n",
              "      flex-wrap:wrap;\n",
              "      gap: 12px;\n",
              "    }\n",
              "\n",
              "    .colab-df-convert {\n",
              "      background-color: #E8F0FE;\n",
              "      border: none;\n",
              "      border-radius: 50%;\n",
              "      cursor: pointer;\n",
              "      display: none;\n",
              "      fill: #1967D2;\n",
              "      height: 32px;\n",
              "      padding: 0 0 0 0;\n",
              "      width: 32px;\n",
              "    }\n",
              "\n",
              "    .colab-df-convert:hover {\n",
              "      background-color: #E2EBFA;\n",
              "      box-shadow: 0px 1px 2px rgba(60, 64, 67, 0.3), 0px 1px 3px 1px rgba(60, 64, 67, 0.15);\n",
              "      fill: #174EA6;\n",
              "    }\n",
              "\n",
              "    [theme=dark] .colab-df-convert {\n",
              "      background-color: #3B4455;\n",
              "      fill: #D2E3FC;\n",
              "    }\n",
              "\n",
              "    [theme=dark] .colab-df-convert:hover {\n",
              "      background-color: #434B5C;\n",
              "      box-shadow: 0px 1px 3px 1px rgba(0, 0, 0, 0.15);\n",
              "      filter: drop-shadow(0px 1px 2px rgba(0, 0, 0, 0.3));\n",
              "      fill: #FFFFFF;\n",
              "    }\n",
              "  </style>\n",
              "\n",
              "      <script>\n",
              "        const buttonEl =\n",
              "          document.querySelector('#df-d9484d80-c179-4c58-be9d-97ebac1f19ba button.colab-df-convert');\n",
              "        buttonEl.style.display =\n",
              "          google.colab.kernel.accessAllowed ? 'block' : 'none';\n",
              "\n",
              "        async function convertToInteractive(key) {\n",
              "          const element = document.querySelector('#df-d9484d80-c179-4c58-be9d-97ebac1f19ba');\n",
              "          const dataTable =\n",
              "            await google.colab.kernel.invokeFunction('convertToInteractive',\n",
              "                                                     [key], {});\n",
              "          if (!dataTable) return;\n",
              "\n",
              "          const docLinkHtml = 'Like what you see? Visit the ' +\n",
              "            '<a target=\"_blank\" href=https://colab.research.google.com/notebooks/data_table.ipynb>data table notebook</a>'\n",
              "            + ' to learn more about interactive tables.';\n",
              "          element.innerHTML = '';\n",
              "          dataTable['output_type'] = 'display_data';\n",
              "          await google.colab.output.renderOutput(dataTable, element);\n",
              "          const docLink = document.createElement('div');\n",
              "          docLink.innerHTML = docLinkHtml;\n",
              "          element.appendChild(docLink);\n",
              "        }\n",
              "      </script>\n",
              "    </div>\n",
              "  </div>\n",
              "  "
            ]
          },
          "metadata": {},
          "execution_count": 32
        }
      ]
    },
    {
      "cell_type": "code",
      "source": [
        "#0 for female\n",
        "#1 for male\n",
        "\n",
        "import numpy as np\n",
        "gender=np.random.choice(['Male', 'Female'], size=10240)\n",
        "country=np.random.choice(['India', 'Malaysia', 'USA'], size=10240)\n",
        "\n",
        "df['gender']=gender\n",
        "df['country']=country"
      ],
      "metadata": {
        "id": "ilW_QqQwfaIA"
      },
      "execution_count": null,
      "outputs": []
    },
    {
      "cell_type": "code",
      "source": [
        "df"
      ],
      "metadata": {
        "colab": {
          "base_uri": "https://localhost:8080/",
          "height": 1000
        },
        "id": "mZlUhhCZf11h",
        "outputId": "2ae725bc-737e-451b-f68c-ac20a52b7c67"
      },
      "execution_count": null,
      "outputs": [
        {
          "output_type": "execute_result",
          "data": {
            "text/plain": [
              "                                                Comments  \\\n",
              "0      Thanks for this video Ken.\\n\\nI decided to go ...   \n",
              "1      Hello ken jee!!! I'm doing a graduation on Com...   \n",
              "2      Thanks for this video, man. So useful. I'll me...   \n",
              "3      Great video!!! I started learning Python 8 mon...   \n",
              "4      Been watching hours of your material (and Tina...   \n",
              "...                                                  ...   \n",
              "10235  Dear Ken,\\nMay I know how the input data with ...   \n",
              "10236  What's your prediction Ken for 2018 or at leas...   \n",
              "10237  Nice. I have some nice models for this doing v...   \n",
              "10238  Great video! Can you please post the github li...   \n",
              "10239  Hi Ken\\n\\nI've been researching about this. Wo...   \n",
              "\n",
              "                       Comment_ID  Reply_Count  Like_Count  \\\n",
              "0      UgxFZTIzC4UPyhhX_PZ4AaABAg            0           0   \n",
              "1      Ugx3IYuAufhb932GYQx4AaABAg            0           0   \n",
              "2      UgyhwwoK24arzRt1mud4AaABAg            0           0   \n",
              "3      UgwrrI7nd3WClsotmHV4AaABAg            0           0   \n",
              "4      UgxlOrHO4MHKSwY9mUN4AaABAg            0           0   \n",
              "...                           ...          ...         ...   \n",
              "10235  UgzX5v48CJAPbvynwTR4AaABAg            1           0   \n",
              "10236  UgwdI9ydb2nk-FIJ1sN4AaABAg            0           0   \n",
              "10237  UgyTi5fEIpZBoED9Fc94AaABAg            0           0   \n",
              "10238  UgyhJTCKn88b0lggR794AaABAg            0           0   \n",
              "10239  UgzG1dz-KieX_gxjMWd4AaABAg            6           2   \n",
              "\n",
              "                       Date        VidId    user_ID  gender   country  \n",
              "0      2022-01-22T08:13:29Z  xpIFS6jZbe8   user_981  Female  Malaysia  \n",
              "1      2022-01-22T01:09:46Z  xpIFS6jZbe8   user_213  Female  Malaysia  \n",
              "2      2022-01-21T23:59:05Z  rEWPqw6rMGI  user_1065  Female     India  \n",
              "3      2022-01-21T23:00:37Z  xpIFS6jZbe8  user_3391    Male     India  \n",
              "4      2022-01-21T20:24:20Z  sHRq-LshG3U  user_2816  Female  Malaysia  \n",
              "...                     ...          ...        ...     ...       ...  \n",
              "10235  2018-07-06T07:08:39Z  qfRhKHV8-t4  user_5850    Male  Malaysia  \n",
              "10236  2018-05-15T00:01:12Z  qfRhKHV8-t4  user_2676    Male  Malaysia  \n",
              "10237  2018-05-04T20:58:54Z  qfRhKHV8-t4  user_4533    Male     India  \n",
              "10238  2018-02-20T16:46:19Z  qfRhKHV8-t4  user_3368    Male       USA  \n",
              "10239  2017-12-03T18:52:35Z  qfRhKHV8-t4  user_5345    Male  Malaysia  \n",
              "\n",
              "[10240 rows x 9 columns]"
            ],
            "text/html": [
              "\n",
              "  <div id=\"df-2707bd03-0c85-4573-9f1a-f0eb27b5ff95\">\n",
              "    <div class=\"colab-df-container\">\n",
              "      <div>\n",
              "<style scoped>\n",
              "    .dataframe tbody tr th:only-of-type {\n",
              "        vertical-align: middle;\n",
              "    }\n",
              "\n",
              "    .dataframe tbody tr th {\n",
              "        vertical-align: top;\n",
              "    }\n",
              "\n",
              "    .dataframe thead th {\n",
              "        text-align: right;\n",
              "    }\n",
              "</style>\n",
              "<table border=\"1\" class=\"dataframe\">\n",
              "  <thead>\n",
              "    <tr style=\"text-align: right;\">\n",
              "      <th></th>\n",
              "      <th>Comments</th>\n",
              "      <th>Comment_ID</th>\n",
              "      <th>Reply_Count</th>\n",
              "      <th>Like_Count</th>\n",
              "      <th>Date</th>\n",
              "      <th>VidId</th>\n",
              "      <th>user_ID</th>\n",
              "      <th>gender</th>\n",
              "      <th>country</th>\n",
              "    </tr>\n",
              "  </thead>\n",
              "  <tbody>\n",
              "    <tr>\n",
              "      <th>0</th>\n",
              "      <td>Thanks for this video Ken.\\n\\nI decided to go ...</td>\n",
              "      <td>UgxFZTIzC4UPyhhX_PZ4AaABAg</td>\n",
              "      <td>0</td>\n",
              "      <td>0</td>\n",
              "      <td>2022-01-22T08:13:29Z</td>\n",
              "      <td>xpIFS6jZbe8</td>\n",
              "      <td>user_981</td>\n",
              "      <td>Female</td>\n",
              "      <td>Malaysia</td>\n",
              "    </tr>\n",
              "    <tr>\n",
              "      <th>1</th>\n",
              "      <td>Hello ken jee!!! I'm doing a graduation on Com...</td>\n",
              "      <td>Ugx3IYuAufhb932GYQx4AaABAg</td>\n",
              "      <td>0</td>\n",
              "      <td>0</td>\n",
              "      <td>2022-01-22T01:09:46Z</td>\n",
              "      <td>xpIFS6jZbe8</td>\n",
              "      <td>user_213</td>\n",
              "      <td>Female</td>\n",
              "      <td>Malaysia</td>\n",
              "    </tr>\n",
              "    <tr>\n",
              "      <th>2</th>\n",
              "      <td>Thanks for this video, man. So useful. I'll me...</td>\n",
              "      <td>UgyhwwoK24arzRt1mud4AaABAg</td>\n",
              "      <td>0</td>\n",
              "      <td>0</td>\n",
              "      <td>2022-01-21T23:59:05Z</td>\n",
              "      <td>rEWPqw6rMGI</td>\n",
              "      <td>user_1065</td>\n",
              "      <td>Female</td>\n",
              "      <td>India</td>\n",
              "    </tr>\n",
              "    <tr>\n",
              "      <th>3</th>\n",
              "      <td>Great video!!! I started learning Python 8 mon...</td>\n",
              "      <td>UgwrrI7nd3WClsotmHV4AaABAg</td>\n",
              "      <td>0</td>\n",
              "      <td>0</td>\n",
              "      <td>2022-01-21T23:00:37Z</td>\n",
              "      <td>xpIFS6jZbe8</td>\n",
              "      <td>user_3391</td>\n",
              "      <td>Male</td>\n",
              "      <td>India</td>\n",
              "    </tr>\n",
              "    <tr>\n",
              "      <th>4</th>\n",
              "      <td>Been watching hours of your material (and Tina...</td>\n",
              "      <td>UgxlOrHO4MHKSwY9mUN4AaABAg</td>\n",
              "      <td>0</td>\n",
              "      <td>0</td>\n",
              "      <td>2022-01-21T20:24:20Z</td>\n",
              "      <td>sHRq-LshG3U</td>\n",
              "      <td>user_2816</td>\n",
              "      <td>Female</td>\n",
              "      <td>Malaysia</td>\n",
              "    </tr>\n",
              "    <tr>\n",
              "      <th>...</th>\n",
              "      <td>...</td>\n",
              "      <td>...</td>\n",
              "      <td>...</td>\n",
              "      <td>...</td>\n",
              "      <td>...</td>\n",
              "      <td>...</td>\n",
              "      <td>...</td>\n",
              "      <td>...</td>\n",
              "      <td>...</td>\n",
              "    </tr>\n",
              "    <tr>\n",
              "      <th>10235</th>\n",
              "      <td>Dear Ken,\\nMay I know how the input data with ...</td>\n",
              "      <td>UgzX5v48CJAPbvynwTR4AaABAg</td>\n",
              "      <td>1</td>\n",
              "      <td>0</td>\n",
              "      <td>2018-07-06T07:08:39Z</td>\n",
              "      <td>qfRhKHV8-t4</td>\n",
              "      <td>user_5850</td>\n",
              "      <td>Male</td>\n",
              "      <td>Malaysia</td>\n",
              "    </tr>\n",
              "    <tr>\n",
              "      <th>10236</th>\n",
              "      <td>What's your prediction Ken for 2018 or at leas...</td>\n",
              "      <td>UgwdI9ydb2nk-FIJ1sN4AaABAg</td>\n",
              "      <td>0</td>\n",
              "      <td>0</td>\n",
              "      <td>2018-05-15T00:01:12Z</td>\n",
              "      <td>qfRhKHV8-t4</td>\n",
              "      <td>user_2676</td>\n",
              "      <td>Male</td>\n",
              "      <td>Malaysia</td>\n",
              "    </tr>\n",
              "    <tr>\n",
              "      <th>10237</th>\n",
              "      <td>Nice. I have some nice models for this doing v...</td>\n",
              "      <td>UgyTi5fEIpZBoED9Fc94AaABAg</td>\n",
              "      <td>0</td>\n",
              "      <td>0</td>\n",
              "      <td>2018-05-04T20:58:54Z</td>\n",
              "      <td>qfRhKHV8-t4</td>\n",
              "      <td>user_4533</td>\n",
              "      <td>Male</td>\n",
              "      <td>India</td>\n",
              "    </tr>\n",
              "    <tr>\n",
              "      <th>10238</th>\n",
              "      <td>Great video! Can you please post the github li...</td>\n",
              "      <td>UgyhJTCKn88b0lggR794AaABAg</td>\n",
              "      <td>0</td>\n",
              "      <td>0</td>\n",
              "      <td>2018-02-20T16:46:19Z</td>\n",
              "      <td>qfRhKHV8-t4</td>\n",
              "      <td>user_3368</td>\n",
              "      <td>Male</td>\n",
              "      <td>USA</td>\n",
              "    </tr>\n",
              "    <tr>\n",
              "      <th>10239</th>\n",
              "      <td>Hi Ken\\n\\nI've been researching about this. Wo...</td>\n",
              "      <td>UgzG1dz-KieX_gxjMWd4AaABAg</td>\n",
              "      <td>6</td>\n",
              "      <td>2</td>\n",
              "      <td>2017-12-03T18:52:35Z</td>\n",
              "      <td>qfRhKHV8-t4</td>\n",
              "      <td>user_5345</td>\n",
              "      <td>Male</td>\n",
              "      <td>Malaysia</td>\n",
              "    </tr>\n",
              "  </tbody>\n",
              "</table>\n",
              "<p>10240 rows × 9 columns</p>\n",
              "</div>\n",
              "      <button class=\"colab-df-convert\" onclick=\"convertToInteractive('df-2707bd03-0c85-4573-9f1a-f0eb27b5ff95')\"\n",
              "              title=\"Convert this dataframe to an interactive table.\"\n",
              "              style=\"display:none;\">\n",
              "        \n",
              "  <svg xmlns=\"http://www.w3.org/2000/svg\" height=\"24px\"viewBox=\"0 0 24 24\"\n",
              "       width=\"24px\">\n",
              "    <path d=\"M0 0h24v24H0V0z\" fill=\"none\"/>\n",
              "    <path d=\"M18.56 5.44l.94 2.06.94-2.06 2.06-.94-2.06-.94-.94-2.06-.94 2.06-2.06.94zm-11 1L8.5 8.5l.94-2.06 2.06-.94-2.06-.94L8.5 2.5l-.94 2.06-2.06.94zm10 10l.94 2.06.94-2.06 2.06-.94-2.06-.94-.94-2.06-.94 2.06-2.06.94z\"/><path d=\"M17.41 7.96l-1.37-1.37c-.4-.4-.92-.59-1.43-.59-.52 0-1.04.2-1.43.59L10.3 9.45l-7.72 7.72c-.78.78-.78 2.05 0 2.83L4 21.41c.39.39.9.59 1.41.59.51 0 1.02-.2 1.41-.59l7.78-7.78 2.81-2.81c.8-.78.8-2.07 0-2.86zM5.41 20L4 18.59l7.72-7.72 1.47 1.35L5.41 20z\"/>\n",
              "  </svg>\n",
              "      </button>\n",
              "      \n",
              "  <style>\n",
              "    .colab-df-container {\n",
              "      display:flex;\n",
              "      flex-wrap:wrap;\n",
              "      gap: 12px;\n",
              "    }\n",
              "\n",
              "    .colab-df-convert {\n",
              "      background-color: #E8F0FE;\n",
              "      border: none;\n",
              "      border-radius: 50%;\n",
              "      cursor: pointer;\n",
              "      display: none;\n",
              "      fill: #1967D2;\n",
              "      height: 32px;\n",
              "      padding: 0 0 0 0;\n",
              "      width: 32px;\n",
              "    }\n",
              "\n",
              "    .colab-df-convert:hover {\n",
              "      background-color: #E2EBFA;\n",
              "      box-shadow: 0px 1px 2px rgba(60, 64, 67, 0.3), 0px 1px 3px 1px rgba(60, 64, 67, 0.15);\n",
              "      fill: #174EA6;\n",
              "    }\n",
              "\n",
              "    [theme=dark] .colab-df-convert {\n",
              "      background-color: #3B4455;\n",
              "      fill: #D2E3FC;\n",
              "    }\n",
              "\n",
              "    [theme=dark] .colab-df-convert:hover {\n",
              "      background-color: #434B5C;\n",
              "      box-shadow: 0px 1px 3px 1px rgba(0, 0, 0, 0.15);\n",
              "      filter: drop-shadow(0px 1px 2px rgba(0, 0, 0, 0.3));\n",
              "      fill: #FFFFFF;\n",
              "    }\n",
              "  </style>\n",
              "\n",
              "      <script>\n",
              "        const buttonEl =\n",
              "          document.querySelector('#df-2707bd03-0c85-4573-9f1a-f0eb27b5ff95 button.colab-df-convert');\n",
              "        buttonEl.style.display =\n",
              "          google.colab.kernel.accessAllowed ? 'block' : 'none';\n",
              "\n",
              "        async function convertToInteractive(key) {\n",
              "          const element = document.querySelector('#df-2707bd03-0c85-4573-9f1a-f0eb27b5ff95');\n",
              "          const dataTable =\n",
              "            await google.colab.kernel.invokeFunction('convertToInteractive',\n",
              "                                                     [key], {});\n",
              "          if (!dataTable) return;\n",
              "\n",
              "          const docLinkHtml = 'Like what you see? Visit the ' +\n",
              "            '<a target=\"_blank\" href=https://colab.research.google.com/notebooks/data_table.ipynb>data table notebook</a>'\n",
              "            + ' to learn more about interactive tables.';\n",
              "          element.innerHTML = '';\n",
              "          dataTable['output_type'] = 'display_data';\n",
              "          await google.colab.output.renderOutput(dataTable, element);\n",
              "          const docLink = document.createElement('div');\n",
              "          docLink.innerHTML = docLinkHtml;\n",
              "          element.appendChild(docLink);\n",
              "        }\n",
              "      </script>\n",
              "    </div>\n",
              "  </div>\n",
              "  "
            ]
          },
          "metadata": {},
          "execution_count": 34
        }
      ]
    },
    {
      "cell_type": "markdown",
      "source": [
        "We are going to check whether the countries and gender are correlated\n",
        "\n"
      ],
      "metadata": {
        "id": "mbHiRjK1gAsR"
      }
    },
    {
      "cell_type": "code",
      "source": [
        "df.dropna(inplace=True)"
      ],
      "metadata": {
        "id": "FazOWrTif35y"
      },
      "execution_count": null,
      "outputs": []
    },
    {
      "cell_type": "code",
      "source": [
        "rows,columns=df.shape"
      ],
      "metadata": {
        "id": "nvyQZSDMhhHj"
      },
      "execution_count": null,
      "outputs": []
    },
    {
      "cell_type": "code",
      "source": [
        "#counting the males and females in USA, MALAYSIA, SINGAPORE\n",
        "\n",
        "df[df.country=='India'].groupby('gender')['country'].count()"
      ],
      "metadata": {
        "colab": {
          "base_uri": "https://localhost:8080/"
        },
        "id": "mJ4tiEmMhocl",
        "outputId": "87437728-7643-499c-ee8f-dab476f470b3"
      },
      "execution_count": null,
      "outputs": [
        {
          "output_type": "execute_result",
          "data": {
            "text/plain": [
              "gender\n",
              "Female    1731\n",
              "Male      1710\n",
              "Name: country, dtype: int64"
            ]
          },
          "metadata": {},
          "execution_count": 37
        }
      ]
    },
    {
      "cell_type": "code",
      "source": [
        "df[df.country=='USA'].groupby('gender')['country'].count()"
      ],
      "metadata": {
        "colab": {
          "base_uri": "https://localhost:8080/"
        },
        "id": "ydEuIToGjEbV",
        "outputId": "ae8e53e5-a22c-4c1b-9258-11d6c87224c8"
      },
      "execution_count": null,
      "outputs": [
        {
          "output_type": "execute_result",
          "data": {
            "text/plain": [
              "gender\n",
              "Female    1682\n",
              "Male      1696\n",
              "Name: country, dtype: int64"
            ]
          },
          "metadata": {},
          "execution_count": 38
        }
      ]
    },
    {
      "cell_type": "code",
      "source": [
        "df[df.country=='Malaysia'].groupby('gender')['country'].count()"
      ],
      "metadata": {
        "colab": {
          "base_uri": "https://localhost:8080/"
        },
        "id": "GD857AeWjhfu",
        "outputId": "e4e4292e-917b-4bd8-8f28-a63aed78ee02"
      },
      "execution_count": null,
      "outputs": [
        {
          "output_type": "execute_result",
          "data": {
            "text/plain": [
              "gender\n",
              "Female    1655\n",
              "Male      1765\n",
              "Name: country, dtype: int64"
            ]
          },
          "metadata": {},
          "execution_count": 39
        }
      ]
    },
    {
      "cell_type": "code",
      "source": [
        "df.groupby(by=['country', 'gender'])['user_ID'].count()"
      ],
      "metadata": {
        "colab": {
          "base_uri": "https://localhost:8080/"
        },
        "id": "YC19V-_akGEa",
        "outputId": "64600f30-3c47-4234-c458-ff1eae23d447"
      },
      "execution_count": null,
      "outputs": [
        {
          "output_type": "execute_result",
          "data": {
            "text/plain": [
              "country   gender\n",
              "India     Female    1731\n",
              "          Male      1710\n",
              "Malaysia  Female    1655\n",
              "          Male      1765\n",
              "USA       Female    1682\n",
              "          Male      1696\n",
              "Name: user_ID, dtype: int64"
            ]
          },
          "metadata": {},
          "execution_count": 45
        }
      ]
    },
    {
      "cell_type": "code",
      "source": [
        "#required data #columns==>countries, rows==>gender\n",
        "#creating the required dataframe\n",
        "row1=['Female',1731,1655,1682]\n",
        "row2=['Male',1710,1765,1696]\n",
        "req_df=pd.DataFrame(columns=['Gender','India', 'Malaysia', 'USA'] )\n",
        "req_df.loc[0]=row1\n",
        "req_df.loc[1]=row2"
      ],
      "metadata": {
        "id": "w3IsXsUOkm_z"
      },
      "execution_count": null,
      "outputs": []
    },
    {
      "cell_type": "code",
      "source": [
        "req_df"
      ],
      "metadata": {
        "colab": {
          "base_uri": "https://localhost:8080/",
          "height": 112
        },
        "id": "cknX0DTXnisG",
        "outputId": "bcd1173a-706e-4797-b587-87e4874d008a"
      },
      "execution_count": null,
      "outputs": [
        {
          "output_type": "execute_result",
          "data": {
            "text/plain": [
              "   Gender India Malaysia   USA\n",
              "0  Female  1731     1655  1682\n",
              "1    Male  1710     1765  1696"
            ],
            "text/html": [
              "\n",
              "  <div id=\"df-4284a637-158d-4d14-871f-e6ad8a1d03e4\">\n",
              "    <div class=\"colab-df-container\">\n",
              "      <div>\n",
              "<style scoped>\n",
              "    .dataframe tbody tr th:only-of-type {\n",
              "        vertical-align: middle;\n",
              "    }\n",
              "\n",
              "    .dataframe tbody tr th {\n",
              "        vertical-align: top;\n",
              "    }\n",
              "\n",
              "    .dataframe thead th {\n",
              "        text-align: right;\n",
              "    }\n",
              "</style>\n",
              "<table border=\"1\" class=\"dataframe\">\n",
              "  <thead>\n",
              "    <tr style=\"text-align: right;\">\n",
              "      <th></th>\n",
              "      <th>Gender</th>\n",
              "      <th>India</th>\n",
              "      <th>Malaysia</th>\n",
              "      <th>USA</th>\n",
              "    </tr>\n",
              "  </thead>\n",
              "  <tbody>\n",
              "    <tr>\n",
              "      <th>0</th>\n",
              "      <td>Female</td>\n",
              "      <td>1731</td>\n",
              "      <td>1655</td>\n",
              "      <td>1682</td>\n",
              "    </tr>\n",
              "    <tr>\n",
              "      <th>1</th>\n",
              "      <td>Male</td>\n",
              "      <td>1710</td>\n",
              "      <td>1765</td>\n",
              "      <td>1696</td>\n",
              "    </tr>\n",
              "  </tbody>\n",
              "</table>\n",
              "</div>\n",
              "      <button class=\"colab-df-convert\" onclick=\"convertToInteractive('df-4284a637-158d-4d14-871f-e6ad8a1d03e4')\"\n",
              "              title=\"Convert this dataframe to an interactive table.\"\n",
              "              style=\"display:none;\">\n",
              "        \n",
              "  <svg xmlns=\"http://www.w3.org/2000/svg\" height=\"24px\"viewBox=\"0 0 24 24\"\n",
              "       width=\"24px\">\n",
              "    <path d=\"M0 0h24v24H0V0z\" fill=\"none\"/>\n",
              "    <path d=\"M18.56 5.44l.94 2.06.94-2.06 2.06-.94-2.06-.94-.94-2.06-.94 2.06-2.06.94zm-11 1L8.5 8.5l.94-2.06 2.06-.94-2.06-.94L8.5 2.5l-.94 2.06-2.06.94zm10 10l.94 2.06.94-2.06 2.06-.94-2.06-.94-.94-2.06-.94 2.06-2.06.94z\"/><path d=\"M17.41 7.96l-1.37-1.37c-.4-.4-.92-.59-1.43-.59-.52 0-1.04.2-1.43.59L10.3 9.45l-7.72 7.72c-.78.78-.78 2.05 0 2.83L4 21.41c.39.39.9.59 1.41.59.51 0 1.02-.2 1.41-.59l7.78-7.78 2.81-2.81c.8-.78.8-2.07 0-2.86zM5.41 20L4 18.59l7.72-7.72 1.47 1.35L5.41 20z\"/>\n",
              "  </svg>\n",
              "      </button>\n",
              "      \n",
              "  <style>\n",
              "    .colab-df-container {\n",
              "      display:flex;\n",
              "      flex-wrap:wrap;\n",
              "      gap: 12px;\n",
              "    }\n",
              "\n",
              "    .colab-df-convert {\n",
              "      background-color: #E8F0FE;\n",
              "      border: none;\n",
              "      border-radius: 50%;\n",
              "      cursor: pointer;\n",
              "      display: none;\n",
              "      fill: #1967D2;\n",
              "      height: 32px;\n",
              "      padding: 0 0 0 0;\n",
              "      width: 32px;\n",
              "    }\n",
              "\n",
              "    .colab-df-convert:hover {\n",
              "      background-color: #E2EBFA;\n",
              "      box-shadow: 0px 1px 2px rgba(60, 64, 67, 0.3), 0px 1px 3px 1px rgba(60, 64, 67, 0.15);\n",
              "      fill: #174EA6;\n",
              "    }\n",
              "\n",
              "    [theme=dark] .colab-df-convert {\n",
              "      background-color: #3B4455;\n",
              "      fill: #D2E3FC;\n",
              "    }\n",
              "\n",
              "    [theme=dark] .colab-df-convert:hover {\n",
              "      background-color: #434B5C;\n",
              "      box-shadow: 0px 1px 3px 1px rgba(0, 0, 0, 0.15);\n",
              "      filter: drop-shadow(0px 1px 2px rgba(0, 0, 0, 0.3));\n",
              "      fill: #FFFFFF;\n",
              "    }\n",
              "  </style>\n",
              "\n",
              "      <script>\n",
              "        const buttonEl =\n",
              "          document.querySelector('#df-4284a637-158d-4d14-871f-e6ad8a1d03e4 button.colab-df-convert');\n",
              "        buttonEl.style.display =\n",
              "          google.colab.kernel.accessAllowed ? 'block' : 'none';\n",
              "\n",
              "        async function convertToInteractive(key) {\n",
              "          const element = document.querySelector('#df-4284a637-158d-4d14-871f-e6ad8a1d03e4');\n",
              "          const dataTable =\n",
              "            await google.colab.kernel.invokeFunction('convertToInteractive',\n",
              "                                                     [key], {});\n",
              "          if (!dataTable) return;\n",
              "\n",
              "          const docLinkHtml = 'Like what you see? Visit the ' +\n",
              "            '<a target=\"_blank\" href=https://colab.research.google.com/notebooks/data_table.ipynb>data table notebook</a>'\n",
              "            + ' to learn more about interactive tables.';\n",
              "          element.innerHTML = '';\n",
              "          dataTable['output_type'] = 'display_data';\n",
              "          await google.colab.output.renderOutput(dataTable, element);\n",
              "          const docLink = document.createElement('div');\n",
              "          docLink.innerHTML = docLinkHtml;\n",
              "          element.appendChild(docLink);\n",
              "        }\n",
              "      </script>\n",
              "    </div>\n",
              "  </div>\n",
              "  "
            ]
          },
          "metadata": {},
          "execution_count": 57
        }
      ]
    },
    {
      "cell_type": "code",
      "source": [
        "req_df.set_index('Gender')"
      ],
      "metadata": {
        "colab": {
          "base_uri": "https://localhost:8080/",
          "height": 143
        },
        "id": "rsrQpW1Kn2pE",
        "outputId": "6cc60451-3761-4929-c31c-ac2e34abdf04"
      },
      "execution_count": null,
      "outputs": [
        {
          "output_type": "execute_result",
          "data": {
            "text/plain": [
              "       India Malaysia   USA\n",
              "Gender                     \n",
              "Female  1731     1655  1682\n",
              "Male    1710     1765  1696"
            ],
            "text/html": [
              "\n",
              "  <div id=\"df-8febd042-9fb7-4691-840a-7cc3a71a7206\">\n",
              "    <div class=\"colab-df-container\">\n",
              "      <div>\n",
              "<style scoped>\n",
              "    .dataframe tbody tr th:only-of-type {\n",
              "        vertical-align: middle;\n",
              "    }\n",
              "\n",
              "    .dataframe tbody tr th {\n",
              "        vertical-align: top;\n",
              "    }\n",
              "\n",
              "    .dataframe thead th {\n",
              "        text-align: right;\n",
              "    }\n",
              "</style>\n",
              "<table border=\"1\" class=\"dataframe\">\n",
              "  <thead>\n",
              "    <tr style=\"text-align: right;\">\n",
              "      <th></th>\n",
              "      <th>India</th>\n",
              "      <th>Malaysia</th>\n",
              "      <th>USA</th>\n",
              "    </tr>\n",
              "    <tr>\n",
              "      <th>Gender</th>\n",
              "      <th></th>\n",
              "      <th></th>\n",
              "      <th></th>\n",
              "    </tr>\n",
              "  </thead>\n",
              "  <tbody>\n",
              "    <tr>\n",
              "      <th>Female</th>\n",
              "      <td>1731</td>\n",
              "      <td>1655</td>\n",
              "      <td>1682</td>\n",
              "    </tr>\n",
              "    <tr>\n",
              "      <th>Male</th>\n",
              "      <td>1710</td>\n",
              "      <td>1765</td>\n",
              "      <td>1696</td>\n",
              "    </tr>\n",
              "  </tbody>\n",
              "</table>\n",
              "</div>\n",
              "      <button class=\"colab-df-convert\" onclick=\"convertToInteractive('df-8febd042-9fb7-4691-840a-7cc3a71a7206')\"\n",
              "              title=\"Convert this dataframe to an interactive table.\"\n",
              "              style=\"display:none;\">\n",
              "        \n",
              "  <svg xmlns=\"http://www.w3.org/2000/svg\" height=\"24px\"viewBox=\"0 0 24 24\"\n",
              "       width=\"24px\">\n",
              "    <path d=\"M0 0h24v24H0V0z\" fill=\"none\"/>\n",
              "    <path d=\"M18.56 5.44l.94 2.06.94-2.06 2.06-.94-2.06-.94-.94-2.06-.94 2.06-2.06.94zm-11 1L8.5 8.5l.94-2.06 2.06-.94-2.06-.94L8.5 2.5l-.94 2.06-2.06.94zm10 10l.94 2.06.94-2.06 2.06-.94-2.06-.94-.94-2.06-.94 2.06-2.06.94z\"/><path d=\"M17.41 7.96l-1.37-1.37c-.4-.4-.92-.59-1.43-.59-.52 0-1.04.2-1.43.59L10.3 9.45l-7.72 7.72c-.78.78-.78 2.05 0 2.83L4 21.41c.39.39.9.59 1.41.59.51 0 1.02-.2 1.41-.59l7.78-7.78 2.81-2.81c.8-.78.8-2.07 0-2.86zM5.41 20L4 18.59l7.72-7.72 1.47 1.35L5.41 20z\"/>\n",
              "  </svg>\n",
              "      </button>\n",
              "      \n",
              "  <style>\n",
              "    .colab-df-container {\n",
              "      display:flex;\n",
              "      flex-wrap:wrap;\n",
              "      gap: 12px;\n",
              "    }\n",
              "\n",
              "    .colab-df-convert {\n",
              "      background-color: #E8F0FE;\n",
              "      border: none;\n",
              "      border-radius: 50%;\n",
              "      cursor: pointer;\n",
              "      display: none;\n",
              "      fill: #1967D2;\n",
              "      height: 32px;\n",
              "      padding: 0 0 0 0;\n",
              "      width: 32px;\n",
              "    }\n",
              "\n",
              "    .colab-df-convert:hover {\n",
              "      background-color: #E2EBFA;\n",
              "      box-shadow: 0px 1px 2px rgba(60, 64, 67, 0.3), 0px 1px 3px 1px rgba(60, 64, 67, 0.15);\n",
              "      fill: #174EA6;\n",
              "    }\n",
              "\n",
              "    [theme=dark] .colab-df-convert {\n",
              "      background-color: #3B4455;\n",
              "      fill: #D2E3FC;\n",
              "    }\n",
              "\n",
              "    [theme=dark] .colab-df-convert:hover {\n",
              "      background-color: #434B5C;\n",
              "      box-shadow: 0px 1px 3px 1px rgba(0, 0, 0, 0.15);\n",
              "      filter: drop-shadow(0px 1px 2px rgba(0, 0, 0, 0.3));\n",
              "      fill: #FFFFFF;\n",
              "    }\n",
              "  </style>\n",
              "\n",
              "      <script>\n",
              "        const buttonEl =\n",
              "          document.querySelector('#df-8febd042-9fb7-4691-840a-7cc3a71a7206 button.colab-df-convert');\n",
              "        buttonEl.style.display =\n",
              "          google.colab.kernel.accessAllowed ? 'block' : 'none';\n",
              "\n",
              "        async function convertToInteractive(key) {\n",
              "          const element = document.querySelector('#df-8febd042-9fb7-4691-840a-7cc3a71a7206');\n",
              "          const dataTable =\n",
              "            await google.colab.kernel.invokeFunction('convertToInteractive',\n",
              "                                                     [key], {});\n",
              "          if (!dataTable) return;\n",
              "\n",
              "          const docLinkHtml = 'Like what you see? Visit the ' +\n",
              "            '<a target=\"_blank\" href=https://colab.research.google.com/notebooks/data_table.ipynb>data table notebook</a>'\n",
              "            + ' to learn more about interactive tables.';\n",
              "          element.innerHTML = '';\n",
              "          dataTable['output_type'] = 'display_data';\n",
              "          await google.colab.output.renderOutput(dataTable, element);\n",
              "          const docLink = document.createElement('div');\n",
              "          docLink.innerHTML = docLinkHtml;\n",
              "          element.appendChild(docLink);\n",
              "        }\n",
              "      </script>\n",
              "    </div>\n",
              "  </div>\n",
              "  "
            ]
          },
          "metadata": {},
          "execution_count": 58
        }
      ]
    },
    {
      "cell_type": "code",
      "source": [
        "required_data=[[1731,1655,1682], [1710,1765,1696]]\n",
        "required_data"
      ],
      "metadata": {
        "colab": {
          "base_uri": "https://localhost:8080/"
        },
        "id": "nt-llFEymDyr",
        "outputId": "3c180007-84c6-46ec-80d1-247a38defaee"
      },
      "execution_count": null,
      "outputs": [
        {
          "output_type": "execute_result",
          "data": {
            "text/plain": [
              "[[1731, 1655, 1682], [1710, 1765, 1696]]"
            ]
          },
          "metadata": {},
          "execution_count": 59
        }
      ]
    },
    {
      "cell_type": "code",
      "source": [
        "from scipy.stats import chi2_contingency\n"
      ],
      "metadata": {
        "id": "gqlWKFDNoPTK"
      },
      "execution_count": null,
      "outputs": []
    },
    {
      "cell_type": "markdown",
      "source": [
        "chi2 : float\n",
        "    The test statistic.\n",
        "\n",
        "p : float\n",
        "    The p-value of the test\n",
        "\n",
        "dof : int\n",
        "    Degrees of freedom\n",
        "    \n",
        "expected : ndarray, same shape as observed\n",
        "    The expected frequencies, based on the marginal sums of the table"
      ],
      "metadata": {
        "id": "1K8cDiOipttz"
      }
    },
    {
      "cell_type": "code",
      "source": [
        "chi2_contingency"
      ],
      "metadata": {
        "colab": {
          "base_uri": "https://localhost:8080/"
        },
        "id": "h_AFcZADoX2f",
        "outputId": "590f3572-b3b1-402f-8a36-e0c2d722f6cb"
      },
      "execution_count": null,
      "outputs": [
        {
          "output_type": "execute_result",
          "data": {
            "text/plain": [
              "<function scipy.stats.contingency.chi2_contingency(observed, correction=True, lambda_=None)>"
            ]
          },
          "metadata": {},
          "execution_count": 69
        }
      ]
    },
    {
      "cell_type": "code",
      "source": [
        "p=chi2_contingency(required_data)[1]\n",
        "p"
      ],
      "metadata": {
        "colab": {
          "base_uri": "https://localhost:8080/"
        },
        "id": "e-HSteDvp1_V",
        "outputId": "3a294efa-3954-4b6f-d707-745f28fff56b"
      },
      "execution_count": null,
      "outputs": [
        {
          "output_type": "execute_result",
          "data": {
            "text/plain": [
              "0.2607573080061581"
            ]
          },
          "metadata": {},
          "execution_count": 73
        }
      ]
    },
    {
      "cell_type": "code",
      "source": [
        "alpha=0.05\n"
      ],
      "metadata": {
        "id": "yMGpnO72p-HT"
      },
      "execution_count": null,
      "outputs": []
    },
    {
      "cell_type": "code",
      "source": [
        "if p>alpha:\n",
        "  print(\"fail to reject null hypothesis\")\n",
        "else:\n",
        "  print(\"null hypothesis is rejetced\")"
      ],
      "metadata": {
        "colab": {
          "base_uri": "https://localhost:8080/"
        },
        "id": "2_4CnRm4qAWb",
        "outputId": "3cb669f0-57d2-42f2-9d8f-7b3a7f61f50b"
      },
      "execution_count": null,
      "outputs": [
        {
          "output_type": "stream",
          "name": "stdout",
          "text": [
            "fail to reject null hypothesis\n"
          ]
        }
      ]
    },
    {
      "cell_type": "markdown",
      "source": [
        "therefore there is no asscoiation between the countries and genders"
      ],
      "metadata": {
        "id": "Zf6x9emGqTme"
      }
    }
  ]
}