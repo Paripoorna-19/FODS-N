{
  "nbformat": 4,
  "nbformat_minor": 0,
  "metadata": {
    "colab": {
      "provenance": []
    },
    "kernelspec": {
      "name": "python3",
      "display_name": "Python 3"
    },
    "language_info": {
      "name": "python"
    }
  },
  "cells": [
    {
      "cell_type": "markdown",
      "source": [
        "The average no of views for the videos posted by a youtube channel is 2k. These numbers have a standard deviation of 121. for the past 2 months, it has been observed that the average views for a sample of 40 videos is  2100 views.whether the viewers for this channel has increased? perform a hypothesis test. significance level has alpha=0.05"
      ],
      "metadata": {
        "id": "IU6SMlGXPzr4"
      }
    },
    {
      "cell_type": "markdown",
      "source": [
        "Null hypothesis:average no of views for the videos posted by the channel is still around 2k\n",
        "\n",
        "Alternate hypothesis:average no of views for the videos posted by the channel has been increased"
      ],
      "metadata": {
        "id": "Tl-VpfadUUW8"
      }
    },
    {
      "cell_type": "markdown",
      "source": [
        "we have to perform a right tailed test"
      ],
      "metadata": {
        "id": "039kZ4q8VYnR"
      }
    },
    {
      "cell_type": "code",
      "execution_count": null,
      "metadata": {
        "id": "-axE_JkEPGV8"
      },
      "outputs": [],
      "source": [
        "import numpy as np"
      ]
    },
    {
      "cell_type": "code",
      "source": [
        "#population_mean\n",
        "pop_mean=2000\n",
        "#population standard deviation\n",
        "pop_std=373\n",
        "#sample mean\n",
        "sam_mean=2100\n",
        "\n",
        "n=60\n",
        "alpha=0.05\n"
      ],
      "metadata": {
        "id": "gQNuBGiZTMMX"
      },
      "execution_count": null,
      "outputs": []
    },
    {
      "cell_type": "code",
      "source": [
        "import scipy.stats as st\n",
        "z_critical=st.norm.ppf(1-alpha)\n",
        "print(\"z_critical: \", z_critical)"
      ],
      "metadata": {
        "colab": {
          "base_uri": "https://localhost:8080/"
        },
        "id": "VBETkN1HTknZ",
        "outputId": "5754972c-d153-4b90-91e1-2ec084bc5dc2"
      },
      "execution_count": null,
      "outputs": [
        {
          "output_type": "stream",
          "name": "stdout",
          "text": [
            "z_critical:  1.6448536269514722\n"
          ]
        }
      ]
    },
    {
      "cell_type": "code",
      "source": [
        "#test_statistic\n",
        "z=(sam_mean-pop_mean)/(pop_std/(np.sqrt(n)))\n",
        "print('Test statistic: ', z)"
      ],
      "metadata": {
        "colab": {
          "base_uri": "https://localhost:8080/"
        },
        "id": "cOBcBUz9T1uV",
        "outputId": "972f7cba-48c2-4fed-e26d-ec049aa21365"
      },
      "execution_count": null,
      "outputs": [
        {
          "output_type": "stream",
          "name": "stdout",
          "text": [
            "Test statistic:  2.076666673569661\n"
          ]
        }
      ]
    },
    {
      "cell_type": "code",
      "source": [
        "if z> z_critical:\n",
        "  print(\"Reject null hypothesis\")\n",
        "else:\n",
        "  print(\"Fail to reject null hypothesis\")"
      ],
      "metadata": {
        "colab": {
          "base_uri": "https://localhost:8080/"
        },
        "id": "_WmNAgS1UOO5",
        "outputId": "3ff6816a-ad51-4b64-9d51-80f5711cc638"
      },
      "execution_count": null,
      "outputs": [
        {
          "output_type": "stream",
          "name": "stdout",
          "text": [
            "Reject null hypothesis\n"
          ]
        }
      ]
    },
    {
      "cell_type": "markdown",
      "source": [
        "since the null hypothesis is rejected. so the average no of views for the particular youtube channel has increased"
      ],
      "metadata": {
        "id": "YtnIyorCV0VL"
      }
    }
  ]
}