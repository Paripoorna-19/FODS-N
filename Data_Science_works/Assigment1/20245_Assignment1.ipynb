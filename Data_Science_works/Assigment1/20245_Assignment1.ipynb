{
  "nbformat": 4,
  "nbformat_minor": 0,
  "metadata": {
    "colab": {
      "provenance": [],
      "collapsed_sections": []
    },
    "kernelspec": {
      "name": "python3",
      "display_name": "Python 3"
    },
    "language_info": {
      "name": "python"
    }
  },
  "cells": [
    {
      "cell_type": "code",
      "execution_count": null,
      "metadata": {
        "colab": {
          "base_uri": "https://localhost:8080/"
        },
        "id": "xo7I7INCFMXq",
        "outputId": "71a93e54-2b02-49e8-d894-a3787740e2c5"
      },
      "outputs": [
        {
          "output_type": "execute_result",
          "data": {
            "text/plain": [
              "('aman', '222', 777, 400.4)"
            ]
          },
          "metadata": {},
          "execution_count": 1
        }
      ],
      "source": [
        "set1=[\"aman\", \"222\", 777, 400.4]\n",
        "\n",
        "set2=tuple((set1))\n",
        "\n",
        "set2"
      ]
    },
    {
      "cell_type": "code",
      "source": [
        "#2.\tCreate a dictionary of your basic data: (a) Roll No (b) Last Name (c) First Name (d) Date of birth. Print out the values and keys\n",
        "\n",
        "student={'Roll No':20245, 'First Name':'Paripoorna', 'Last Name':'D','Date of Birth':'19/11/2001' }\n",
        "\n",
        "print(student)#printing disctionary\n",
        "\n",
        "print(\"----Printing keys----\")\n",
        "for i in student:\n",
        "  print(i)\n",
        "\n",
        "print(\"----Printing the values----\")\n",
        "for i in student.values():\n",
        "  print(i)"
      ],
      "metadata": {
        "colab": {
          "base_uri": "https://localhost:8080/"
        },
        "id": "hs6o1pAIGAgH",
        "outputId": "3ad703a8-3857-45a2-e7c1-23d10b2c982e"
      },
      "execution_count": null,
      "outputs": [
        {
          "output_type": "stream",
          "name": "stdout",
          "text": [
            "{'Roll No': 20245, 'First Name': 'Paripoorna', 'Last Name': 'D', 'Date of Birth': '19/11/2001'}\n",
            "----Printing keys----\n",
            "Roll No\n",
            "First Name\n",
            "Last Name\n",
            "Date of Birth\n",
            "----Printing the values----\n",
            "20245\n",
            "Paripoorna\n",
            "D\n",
            "19/11/2001\n"
          ]
        }
      ]
    },
    {
      "cell_type": "code",
      "source": [
        "#3.\tUse rand function to generate a 2-dimensional random array with seed.\n",
        "\n",
        "from numpy import random\n",
        "\n",
        "a=random.randint(100, size=(2,5))\n",
        "\n",
        "print(a)"
      ],
      "metadata": {
        "colab": {
          "base_uri": "https://localhost:8080/"
        },
        "id": "kKjzQJxaHbe2",
        "outputId": "07e86734-dc3b-4c93-b27e-2d4f525ea623"
      },
      "execution_count": null,
      "outputs": [
        {
          "output_type": "stream",
          "name": "stdout",
          "text": [
            "[[90 85 16 30 95]\n",
            " [37 22 54  0 59]]\n"
          ]
        }
      ]
    },
    {
      "cell_type": "code",
      "source": [
        "#4. single random number in [0.0, 1.0]\n",
        "\n",
        "import random\n",
        "import math\n",
        "\n",
        "x=random.uniform(0.0, 1.0)\n",
        "\n",
        "print(x)\n",
        "\n",
        "#absolute value of (-1234)\n",
        "\n",
        "a=abs(-1234)\n",
        "\n",
        "print(a)"
      ],
      "metadata": {
        "colab": {
          "base_uri": "https://localhost:8080/"
        },
        "id": "C82-m-anOJbK",
        "outputId": "e741e63e-4d1d-46e4-e566-78f858d396a8"
      },
      "execution_count": null,
      "outputs": [
        {
          "output_type": "stream",
          "name": "stdout",
          "text": [
            "0.36512225653146735\n",
            "1234\n"
          ]
        }
      ]
    },
    {
      "cell_type": "code",
      "source": [
        "#5.return random integer between 20 and 90\n",
        "y=random.randint(20,90)\n",
        "print(y)"
      ],
      "metadata": {
        "colab": {
          "base_uri": "https://localhost:8080/"
        },
        "id": "hLfrvCWicOQv",
        "outputId": "607025f8-92c2-447b-d4cd-cfa3b09c0c25"
      },
      "execution_count": null,
      "outputs": [
        {
          "output_type": "stream",
          "name": "stdout",
          "text": [
            "29\n"
          ]
        }
      ]
    },
    {
      "cell_type": "code",
      "source": [
        "#6. return a list of length 3\n",
        "\n",
        "a=[11,12,13,14,15]\n",
        "\n",
        "new_list=random.sample(a,3)\n",
        "print(new_list)\n",
        "\n",
        "random.shuffle(new_list)\n",
        "\n",
        "print(\"Shuffled_list\")\n",
        "print(new_list)\n",
        "\n",
        "print(\"random number from a list\")\n",
        "\n",
        "print(random.choice(a))\n"
      ],
      "metadata": {
        "colab": {
          "base_uri": "https://localhost:8080/"
        },
        "id": "dZEaj9_zc0A-",
        "outputId": "4f405521-4944-4df3-913a-0ccae4c33ac6"
      },
      "execution_count": null,
      "outputs": [
        {
          "output_type": "stream",
          "name": "stdout",
          "text": [
            "[12, 11, 13]\n",
            "Shuffled_list\n",
            "[12, 13, 11]\n",
            "random number from a list\n",
            "11\n"
          ]
        }
      ]
    },
    {
      "cell_type": "code",
      "source": [
        "#7 reading the file\n",
        "write_file=open(\"newfile.txt\", \"w\")\n",
        "\n",
        "n=write_file.write(\"The King is Dead, Long Live The King\")\n",
        "\n",
        "write_file.close()\n",
        "\n",
        "write_file=open(\"newfile.txt\", \"r\")\n",
        "\n",
        "print(write_file.read())\n",
        "\n",
        "write_file.close()"
      ],
      "metadata": {
        "colab": {
          "base_uri": "https://localhost:8080/"
        },
        "id": "ppgwPmF1clFu",
        "outputId": "149978e5-496a-4752-b87f-2a62ce2b898d"
      },
      "execution_count": null,
      "outputs": [
        {
          "output_type": "stream",
          "name": "stdout",
          "text": [
            "The King is Dead, Long Live The King\n"
          ]
        }
      ]
    },
    {
      "cell_type": "code",
      "source": [
        "#8. use of if else\n",
        "\n",
        "a=int(input(\"enter an integer:- \"))\n",
        "\n",
        "#checking the number is even or odd (use of ifelse)\n",
        "\n",
        "if (a%2==0):\n",
        "  print(str(a)+\" is an even number\")\n",
        "else:\n",
        "  print(str(a)+\" is an odd number\")\n",
        "\n",
        "#sum of the digits of a (use of while loop)\n",
        "\n",
        "sum=0\n",
        "while a!=0:\n",
        "  p=a%10\n",
        "  \n",
        "  sum=sum+p\n",
        "  a=int(a/10)\n",
        "\n",
        "print(\"sum of the digits: \", sum)\n",
        "\n",
        "\n"
      ],
      "metadata": {
        "id": "9p5XH85Dmsi0",
        "colab": {
          "base_uri": "https://localhost:8080/"
        },
        "outputId": "b5f61653-749c-4d33-f2b9-98c25a6ce785"
      },
      "execution_count": null,
      "outputs": [
        {
          "output_type": "stream",
          "name": "stdout",
          "text": [
            "enter an integer:- 345\n",
            "345 is an odd number\n",
            "5\n",
            "4\n",
            "3\n",
            "sum of the digits:  12\n"
          ]
        }
      ]
    },
    {
      "cell_type": "code",
      "source": [
        "#9.\n",
        "a=\"The King is Dead, Long Live The King\"\n",
        "print(a)\n",
        "print(a[0])\n",
        "print(a[2:5])\n",
        "print(a[2:])\n",
        "print(a.split())"
      ],
      "metadata": {
        "colab": {
          "base_uri": "https://localhost:8080/"
        },
        "id": "O5kD2ZFXm9i2",
        "outputId": "caf2080b-d735-458a-ff77-f07d4ac2e57d"
      },
      "execution_count": null,
      "outputs": [
        {
          "output_type": "stream",
          "name": "stdout",
          "text": [
            "The King is Dead, Long Live The King\n",
            "T\n",
            "e K\n",
            "e King is Dead, Long Live The King\n",
            "['The', 'King', 'is', 'Dead,', 'Long', 'Live', 'The', 'King']\n"
          ]
        }
      ]
    },
    {
      "cell_type": "code",
      "source": [
        "#10.\n",
        "import numpy as np\n",
        "\n",
        "a=[1,2,3,4,5]\n",
        "\n",
        "arr=np.array(a)\n",
        "\n",
        "print(arr[0:2])"
      ],
      "metadata": {
        "colab": {
          "base_uri": "https://localhost:8080/"
        },
        "id": "kUDLCsNynpmz",
        "outputId": "0d75c1d2-dca8-457a-ad83-c59df83f1725"
      },
      "execution_count": null,
      "outputs": [
        {
          "output_type": "stream",
          "name": "stdout",
          "text": [
            "[1 2]\n"
          ]
        }
      ]
    },
    {
      "cell_type": "code",
      "source": [
        "#11.multi dimensional array\n",
        "\n",
        "arr=np.array([[1,2,3],[4,5,6]])\n",
        "\n",
        "print(arr)\n"
      ],
      "metadata": {
        "colab": {
          "base_uri": "https://localhost:8080/"
        },
        "id": "gg-ldekrn_zH",
        "outputId": "1d36c48e-55b1-44db-c9a9-5fd59fa5897f"
      },
      "execution_count": null,
      "outputs": [
        {
          "output_type": "stream",
          "name": "stdout",
          "text": [
            "[[1 2 3]\n",
            " [4 5 6]]\n"
          ]
        }
      ]
    },
    {
      "cell_type": "code",
      "source": [
        "#12.\n",
        "print(arr[1:2]) #displaying the 2nd row\n",
        "print(arr[:, 1])\n",
        "print(arr.size) #length of the array"
      ],
      "metadata": {
        "colab": {
          "base_uri": "https://localhost:8080/"
        },
        "id": "N16OkUvBwKeJ",
        "outputId": "bf7fb8c8-29f0-4bb0-93cc-fdb9284ea784"
      },
      "execution_count": null,
      "outputs": [
        {
          "output_type": "stream",
          "name": "stdout",
          "text": [
            "[[4 5 6]]\n",
            "[2 5]\n",
            "6\n"
          ]
        }
      ]
    },
    {
      "cell_type": "code",
      "source": [
        "#13. reshaping an array 1-d to 2-d\n",
        "\n",
        "arr1=np.arange(1,11)\n",
        "\n",
        "reshaped_array=arr1.reshape(5,2)\n",
        "\n",
        "print(reshaped_array) \n",
        "\n",
        "print(\"Transpose of an array\")\n",
        "\n",
        "transposed_array=reshaped_array.T\n",
        "\n",
        "print(transposed_array)"
      ],
      "metadata": {
        "colab": {
          "base_uri": "https://localhost:8080/"
        },
        "id": "2TPtpaYixZ29",
        "outputId": "8974aba8-e341-46a9-f12e-03ba01ff5ce2"
      },
      "execution_count": null,
      "outputs": [
        {
          "output_type": "stream",
          "name": "stdout",
          "text": [
            "[[ 1  2]\n",
            " [ 3  4]\n",
            " [ 5  6]\n",
            " [ 7  8]\n",
            " [ 9 10]]\n",
            "Transpose of an array\n",
            "[[ 1  3  5  7  9]\n",
            " [ 2  4  6  8 10]]\n"
          ]
        }
      ]
    },
    {
      "cell_type": "code",
      "source": [
        "#14. creating an array from a list of 1, 2 and 3\n",
        "\n",
        "a=[1,2,3]\n",
        "\n",
        "arr2=np.array(a)\n",
        "\n",
        "print(arr2)"
      ],
      "metadata": {
        "colab": {
          "base_uri": "https://localhost:8080/"
        },
        "id": "HFwP1jAByVPI",
        "outputId": "30087e42-f202-4941-d39d-9a00d54064c9"
      },
      "execution_count": null,
      "outputs": [
        {
          "output_type": "stream",
          "name": "stdout",
          "text": [
            "[1 2 3]\n"
          ]
        }
      ]
    },
    {
      "cell_type": "code",
      "source": [
        "#15.fill an array with as ingle value\n",
        "\n",
        "a=np.array([1,2,3])\n",
        "\n",
        "a.fill(9)\n",
        "\n",
        "print(a)"
      ],
      "metadata": {
        "colab": {
          "base_uri": "https://localhost:8080/"
        },
        "id": "tYTQPagV5bue",
        "outputId": "6727c9f6-8532-4e3d-df7e-59fbffa2e0be"
      },
      "execution_count": null,
      "outputs": [
        {
          "output_type": "stream",
          "name": "stdout",
          "text": [
            "[9 9 9]\n"
          ]
        }
      ]
    },
    {
      "cell_type": "code",
      "source": [
        "#16.array sum\n",
        "\n",
        "arr3=np.array([2,4,5])\n",
        "\n",
        "print(arr3.sum())"
      ],
      "metadata": {
        "colab": {
          "base_uri": "https://localhost:8080/"
        },
        "id": "VSHwmnXd-UQR",
        "outputId": "b01ee5b1-e737-42a4-b85b-18415fa70250"
      },
      "execution_count": null,
      "outputs": [
        {
          "output_type": "stream",
          "name": "stdout",
          "text": [
            "11\n"
          ]
        }
      ]
    },
    {
      "cell_type": "code",
      "source": [
        "#17. array product\n",
        "\n",
        "arr4=np.array([77,74,75])\n",
        "\n",
        "print(arr4.prod())"
      ],
      "metadata": {
        "colab": {
          "base_uri": "https://localhost:8080/"
        },
        "id": "uugFsJcA-pef",
        "outputId": "4fa21eeb-014c-4fb4-97a2-036944033330"
      },
      "execution_count": null,
      "outputs": [
        {
          "output_type": "stream",
          "name": "stdout",
          "text": [
            "427350\n"
          ]
        }
      ]
    },
    {
      "cell_type": "code",
      "source": [
        "#18.\n",
        "arr5=np.array([2,1,9,1,2,22,1,1,4,55,6,2,56])\n",
        "print(\"mean\", arr5.mean())\n",
        "print(\"variance\", arr5.var())\n",
        "print(\"Maximum\", arr5.max())\n",
        "print(\"Minimum\", arr5.min())\n",
        "print(\"argmin\", arr5.argmin())\n",
        "print(\"median\", np.median(arr5))\n",
        "print(\"argmax\", arr5.argmax())\n",
        "print(\"standard deviation\", np.std(arr5))"
      ],
      "metadata": {
        "colab": {
          "base_uri": "https://localhost:8080/"
        },
        "id": "ukeXHoGf_g5N",
        "outputId": "5b0710c1-8ffe-4a36-86bb-944308949c79"
      },
      "execution_count": null,
      "outputs": [
        {
          "output_type": "stream",
          "name": "stdout",
          "text": [
            "mean 12.461538461538462\n",
            "variance 367.32544378698225\n",
            "Maximum 56\n",
            "Minimum 1\n",
            "argmin 1\n",
            "median 2.0\n",
            "argmax 12\n",
            "standard deviation 19.165736192147232\n"
          ]
        }
      ]
    },
    {
      "cell_type": "code",
      "source": [
        "#19. printing unique elements and sorting it out\n",
        "arr6=np.array([1, 1, 4, 5, 5, 5, 7] )\n",
        "print(np.unique(arr6))\n",
        "print(np.sort(arr6))\n"
      ],
      "metadata": {
        "colab": {
          "base_uri": "https://localhost:8080/"
        },
        "id": "Nh1x0jFPA4tp",
        "outputId": "bc1000da-0515-4c35-8374-4ba64d94219c"
      },
      "execution_count": null,
      "outputs": [
        {
          "output_type": "stream",
          "name": "stdout",
          "text": [
            "[1 4 5 7]\n",
            "[1 1 4 5 5 5 7]\n"
          ]
        }
      ]
    },
    {
      "cell_type": "code",
      "source": [
        "#20. product of two arrays\n",
        "\n",
        "arr7=np.array([1,2,3])\n",
        "arr8=np.array([0,1,1])\n",
        "\n",
        "print(\"dot product of two arrays:-\", arr7*arr8)\n"
      ],
      "metadata": {
        "colab": {
          "base_uri": "https://localhost:8080/"
        },
        "id": "1u9CgJenBeR6",
        "outputId": "0745938a-9681-492f-c590-792ed3eebd5a"
      },
      "execution_count": null,
      "outputs": [
        {
          "output_type": "stream",
          "name": "stdout",
          "text": [
            "dot product of two arrays:- [0 2 3]\n"
          ]
        }
      ]
    },
    {
      "cell_type": "code",
      "source": [
        "#21. printing eigen values and eigen vectors of a matrix a\n",
        "from numpy.linalg import eig\n",
        "A=np.array([[2,-12],[1,-5]])\n",
        "\n",
        "val,vec=eig(A)\n",
        "\n",
        "print(\"Eigen value:- \", val)\n",
        "print(\"Eigen vector:- \", vec)"
      ],
      "metadata": {
        "colab": {
          "base_uri": "https://localhost:8080/"
        },
        "id": "fC6STgL0B6UB",
        "outputId": "2739d3b7-3ffe-4107-fe04-e14b4e428c93"
      },
      "execution_count": null,
      "outputs": [
        {
          "output_type": "stream",
          "name": "stdout",
          "text": [
            "Eigen value:-  [-1. -2.]\n",
            "Eigen vector:-  [[0.9701425  0.9486833 ]\n",
            " [0.24253563 0.31622777]]\n"
          ]
        }
      ]
    },
    {
      "cell_type": "code",
      "source": [
        "#22. prining correlation coefficient of two matrices\n",
        "\n",
        "arr8=np.array([11,22,11,31])\n",
        "arr9=np.array([25,33,31,28])\n",
        "\n",
        "print(np.corrcoef(arr8, arr9))"
      ],
      "metadata": {
        "colab": {
          "base_uri": "https://localhost:8080/"
        },
        "id": "68zLWvZ0DD9D",
        "outputId": "fc82bbf6-7d0b-465b-f1d7-db1363c22098"
      },
      "execution_count": null,
      "outputs": [
        {
          "output_type": "stream",
          "name": "stdout",
          "text": [
            "[[1.         0.15997968]\n",
            " [0.15997968 1.        ]]\n"
          ]
        }
      ]
    }
  ]
}